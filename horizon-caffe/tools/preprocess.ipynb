{
 "cells": [
  {
   "cell_type": "markdown",
   "metadata": {},
   "source": [
    "# 1. List train folders"
   ]
  },
  {
   "cell_type": "markdown",
   "metadata": {},
   "source": [
    "## 1.1. Generate \"train_folders.txt\""
   ]
  },
  {
   "cell_type": "code",
   "execution_count": null,
   "metadata": {
    "collapsed": true
   },
   "outputs": [],
   "source": [
    "%%bash\n",
    "python list_train_folders.py -root_dir=/home/austin/Data/DMS_Eyes0710 \\\n",
    " -dir_type=\"a_open|glass_open|a_close|glass_close\" > train_folders.txt"
   ]
  },
  {
   "cell_type": "markdown",
   "metadata": {},
   "source": [
    "## 2.1. Rename train files\n",
    "```\n",
    "### change\n",
    "### '/home/austin/Data/DMS_Eyes0710/20170512_JOC/20170511-78p/r0011/a_open//9999_1_22319.png'\n",
    "### to\n",
    "### '/home/austin/Data/DMS_Eyes0710/20170512_JOC/20170511-78p/r0011/a_open//left_22319.png'\n",
    "python rename.py  /home/austin/Data/DMS_Eyes0710/20170512_JOC/20170511-78p/r0009/a_close -preview=True\n",
    "```"
   ]
  },
  {
   "cell_type": "markdown",
   "metadata": {},
   "source": [
    "### 2.2.1. Generate rename commands in \"rename.sh\"\n",
    "```\n",
    "python rename.py /home/austin/Data/DMS_Eyes0710/20170512_JOC/20170511-78p/r0009/a_close -preview=True\n",
    "```"
   ]
  },
  {
   "cell_type": "code",
   "execution_count": null,
   "metadata": {
    "collapsed": true,
    "scrolled": true
   },
   "outputs": [],
   "source": [
    "import os\n",
    "\n",
    "# Do not rename pictures, only preview those pictures\n",
    "RENAME_PREVIEW = 'True' # True/False\n",
    "\n",
    "# Print log or not\n",
    "PRE_PRINT_RES = True\n",
    "\n",
    "# 需要处理的文件夹列表\n",
    "fn_train_folders = 'train_folders.txt'\n",
    "# 存储的脚本名称\n",
    "fn_rename = \"rename.sh\"\n",
    "\n",
    "\n",
    "def skip_comments_and_blank(file, cm='#'):\n",
    "    lines = list()\n",
    "    for line in file:\n",
    "        #print line\n",
    "        line = line.strip()\n",
    "        if not line.startswith(cm) and not line.isspace():\n",
    "            lines.append(line)\n",
    "    return lines\n",
    "\n",
    "\n",
    "if __name__ == '__main__':\n",
    "    out_f = open(fn_rename, 'w')\n",
    "    lines = skip_comments_and_blank(open(fn_train_folders))\n",
    "    for folder in lines:\n",
    "        out_line = 'python rename.py'\n",
    "        out_line += ' ' + folder + ' -preview=' + RENAME_PREVIEW;\n",
    "            \n",
    "        if PRE_PRINT_RES:\n",
    "            print out_line\n",
    "        out_f.write(out_line + '\\n')\n",
    "        \n",
    "    out_f.truncate(out_f.tell()-1)\n",
    "    out_f.close()"
   ]
  },
  {
   "cell_type": "markdown",
   "metadata": {},
   "source": [
    "### 2.2.2. Do rename"
   ]
  },
  {
   "cell_type": "code",
   "execution_count": null,
   "metadata": {
    "collapsed": true
   },
   "outputs": [],
   "source": [
    "%%bash\n",
    "#sh -x rename.sh\n",
    "sh rename.sh"
   ]
  },
  {
   "cell_type": "markdown",
   "metadata": {},
   "source": [
    "# 3. Disturb pictures"
   ]
  },
  {
   "cell_type": "markdown",
   "metadata": {},
   "source": [
    "## 3.1.Count number of all classes"
   ]
  },
  {
   "cell_type": "code",
   "execution_count": null,
   "metadata": {
    "collapsed": true,
    "scrolled": true
   },
   "outputs": [],
   "source": [
    "import os\n",
    "import glob\n",
    "import argparse\n",
    "\n",
    "src_folders = 'train_folders.txt'\n",
    "\n",
    "\n",
    "def skip_comments_and_blank(file, cm='#'):\n",
    "    lines = list()\n",
    "    for line in file:\n",
    "        line = line.strip()\n",
    "        if not line.startswith(cm) and not line.isspace():\n",
    "            lines.append(line)\n",
    "    return lines\n",
    "\n",
    "\n",
    "if __name__ == '__main__':\n",
    "    dir_types = {}\n",
    "    lines = skip_comments_and_blank(open(src_folders))\n",
    "    for sub_dir in lines:\n",
    "        dir_type = sub_dir.split(os.sep)[-1]\n",
    "        if dir_type not in dir_types:\n",
    "            print 'add', dir_type, 'in dir_types'\n",
    "            dir_types[dir_type] = 0\n",
    "       \n",
    "        # count the number of files\n",
    "        num = len(glob.glob(sub_dir+'/*'))\n",
    "        dir_types[dir_type] += num\n",
    "        print sub_dir, num\n",
    "            \n",
    "    print 'sum up:', dir_types"
   ]
  },
  {
   "cell_type": "markdown",
   "metadata": {},
   "source": [
    "## 3.2. Generate disturb commands in disturb_pic.sh"
   ]
  },
  {
   "cell_type": "code",
   "execution_count": null,
   "metadata": {
    "collapsed": true
   },
   "outputs": [],
   "source": [
    "import os\n",
    "\n",
    "PRE_PRINT_RES = False\n",
    "\n",
    "# 需要处理的文件夹列表\n",
    "src_folders = 'train_folders.txt'\n",
    "# 视频源或者图片源\n",
    "source_type = 'mp4' # only support mp4 now\n",
    "source_base_folder = '/home/austin/Data/DMS_Video'\n",
    "# 存储的脚本名称\n",
    "fn_cmd = \"disturb_in_pic.sh\"\n",
    "# 需要切掉的绝对路径\n",
    "remove_path = '/home/austin/Data/DMS_Eyes0710/'\n",
    "\n",
    "# 扰动脚本\n",
    "disturb_script = 'disturb_in_pic.py'\n",
    "# 扰动倍数\n",
    "disturb_times = {'a_close':5, 'a_open':2, 'glass_close':72, 'glass_open':2,}\n",
    "save_path = './disturb'\n",
    "\n",
    "def skip_comments_and_blank(file, cm='#'):\n",
    "    lines = list()\n",
    "    for line in file:\n",
    "        #print line\n",
    "        line = line.strip()\n",
    "        if not line.startswith(cm) and not line.isspace():\n",
    "            lines.append(line)\n",
    "    return lines\n",
    "\n",
    "\n",
    "if __name__ == '__main__':\n",
    "    if source_base_folder[-1] != os.sep:\n",
    "        source_base_folder += os.sep\n",
    "        \n",
    "    if remove_path[-1] != os.sep:\n",
    "        remove_path += os.sep\n",
    "        \n",
    "    out_f = open(fn_cmd, 'w')\n",
    "    \n",
    "    lines = skip_comments_and_blank(open(src_folders))\n",
    "    for line in lines:\n",
    "        if line[-1] == os.sep:\n",
    "            line = line[:-1]\n",
    "            \n",
    "        if line.startswith(remove_path):\n",
    "            ### Remove base path:\n",
    "            # '/home/austin/Data/DMS_Eyes0710/20170512_JOC/20170511-78p/r0009/a_close'\n",
    "            # to\n",
    "            # '20170512_JOC/20170511-78p/r0009'\n",
    "            rpath = line[remove_path.__len__():]\n",
    "            class_dir = line.split(os.sep)[-1] # a_close\n",
    "            rpath = rpath[:-(class_dir.__len__()+1)]\n",
    "        else:\n",
    "            print \"Error: rpath\", remove_path, line\n",
    "            exit()\n",
    "\n",
    "        source = source_base_folder + rpath + '.' + source_type\n",
    "        disturb_time = disturb_times[class_dir]\n",
    "        eye_res = remove_path + rpath + os.sep + \"eyes.txt\"\n",
    "        out_line = 'python ' + disturb_script\n",
    "        out_line += ' -pic_dir=' + line + ' -source=' + source + ' -eye_res=' + eye_res \\\n",
    "                    + ' -save_path='+save_path + ' -disturb_time=' + str(disturb_time)\n",
    "            \n",
    "        if PRE_PRINT_RES:\n",
    "            print out_line\n",
    "        out_f.write(out_line + '\\n')\n",
    "        \n",
    "    out_f.truncate(out_f.tell()-1)\n",
    "    out_f.close()"
   ]
  },
  {
   "cell_type": "markdown",
   "metadata": {},
   "source": [
    "## 3.3. Do disturb\n",
    "\n",
    "`sh disturb_pic.sh`只能单线程运行，可以执行`python disturb_on_multi_cpus.py`，但是最好在terminal执行！！！"
   ]
  },
  {
   "cell_type": "code",
   "execution_count": null,
   "metadata": {
    "collapsed": true
   },
   "outputs": [],
   "source": [
    "!sh disturb_pic.sh"
   ]
  },
  {
   "cell_type": "code",
   "execution_count": null,
   "metadata": {
    "collapsed": true
   },
   "outputs": [],
   "source": [
    "test_ratio = [1, 5]\n",
    "print 110%10 in test_ratio\n",
    "print 111%10 in test_ratio\n",
    "print 112%10 in test_ratio\n",
    "print 113%10 in test_ratio\n",
    "print 114%10 in test_ratio\n",
    "print 115%10 in test_ratio\n",
    "print 116%10 in test_ratio\n",
    "print 117%10 in test_ratio\n",
    "print 118%10 in test_ratio\n",
    "print 119%10 in test_ratio"
   ]
  },
  {
   "cell_type": "markdown",
   "metadata": {
    "collapsed": true
   },
   "source": [
    "# 2. list train files\n",
    "```\n",
    "!python list_train_files.py /home/austin/Data/DMS_Eyes0710/20170512_JOC/20170511-78p/r0009/a_close  > train_files.txt\n",
    "```"
   ]
  },
  {
   "cell_type": "code",
   "execution_count": null,
   "metadata": {
    "collapsed": true
   },
   "outputs": [],
   "source": [
    "!python list_train_files.py /home/austin/work/dms_train/eyes_mxnet/disturb/test  -recursive=1 > test_files.txt\n",
    "!python list_train_files.py /home/austin/work/dms_train/eyes_mxnet/disturb/train  -recursive=1 > train_files.txt"
   ]
  },
  {
   "cell_type": "markdown",
   "metadata": {},
   "source": [
    "## 4.2 Convert to mxnet lst"
   ]
  },
  {
   "cell_type": "code",
   "execution_count": null,
   "metadata": {
    "scrolled": true
   },
   "outputs": [],
   "source": [
    "import random\n",
    "\n",
    "fn_filelist = 'test_files.txt'\n",
    "\n",
    "if __name__ == '__main__':\n",
    "    #if source_base_folder[-1] != os.sep:\n",
    "    #    source_base_folder += os.sep\n",
    "    #    \n",
    "    #if remove_path[-1] != os.sep:\n",
    "    #    remove_path += os.sep\n",
    "    \n",
    "    lines = open(fn_filelist).readlines()\n",
    "    lines = map(lambda x: x.strip(), lines)\n",
    "    img_list = map(lambda x: x.split(), lines)\n",
    "    \n",
    "    lst_list = []\n",
    "    idx = 0\n",
    "    for img_name, img_class in img_list:\n",
    "        out_line = '%d\\t%s\\t%s' % (idx, img_class, img_name)\n",
    "        lst_list.append(out_line)\n",
    "        idx += 1\n",
    "        \n",
    "    random.seed(100)\n",
    "    random.shuffle(lst_list)\n",
    "    \n",
    "    for a in lst_list:\n",
    "        print a"
   ]
  },
  {
   "cell_type": "code",
   "execution_count": null,
   "metadata": {},
   "outputs": [],
   "source": [
    "lines = [1,2,3,4,5]\n",
    "idx = 0\n",
    "folder_list = map(lambda x: x, lines)\n",
    "res_list = []\n",
    "for a in folder_list:\n",
    "    t = '%d\\t%d' % (idx, a)\n",
    "    res_list.append(t)\n",
    "    idx += 1\n",
    "\n",
    "random.seed(2)\n",
    "random.shuffle(res_list)\n",
    "    \n",
    "for a in res_list:\n",
    "    print a"
   ]
  },
  {
   "cell_type": "code",
   "execution_count": null,
   "metadata": {
    "collapsed": true
   },
   "outputs": [],
   "source": []
  }
 ],
 "metadata": {
  "kernelspec": {
   "display_name": "Python 2",
   "language": "python",
   "name": "python2"
  },
  "language_info": {
   "codemirror_mode": {
    "name": "ipython",
    "version": 2
   },
   "file_extension": ".py",
   "mimetype": "text/x-python",
   "name": "python",
   "nbconvert_exporter": "python",
   "pygments_lexer": "ipython2",
   "version": "2.7.5"
  }
 },
 "nbformat": 4,
 "nbformat_minor": 1
}
