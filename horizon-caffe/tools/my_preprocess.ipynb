{
 "cells": [
  {
   "cell_type": "markdown",
   "metadata": {},
   "source": [
    "# List train folders"
   ]
  },
  {
   "cell_type": "markdown",
   "metadata": {},
   "source": [
    "##  Generate \"train_folders.txt\""
   ]
  },
  {
   "cell_type": "code",
   "execution_count": null,
   "metadata": {
    "collapsed": true
   },
   "outputs": [],
   "source": [
    "!python list_train_folders.py -root_dir=/home/users/dawei.yang/data/source_eye_data/ -dir_type=\"a_open|glass_open|a_close|glass_close\" > ../hf_work_20170805/file_list/train_folders.txt"
   ]
  },
  {
   "cell_type": "markdown",
   "metadata": {},
   "source": [
    "# Disturb pictures"
   ]
  },
  {
   "cell_type": "markdown",
   "metadata": {},
   "source": [
    "## Count number of all classes"
   ]
  },
  {
   "cell_type": "code",
   "execution_count": null,
   "metadata": {
    "collapsed": true,
    "scrolled": true
   },
   "outputs": [],
   "source": [
    "import os\n",
    "import glob\n",
    "import argparse\n",
    "\n",
    "src_folders = '../hf_work_20170805/file_list/train_folders.txt'\n",
    "\n",
    "\n",
    "def skip_comments_and_blank(file, cm='#'):\n",
    "    lines = list()\n",
    "    for line in file:\n",
    "        line = line.strip()\n",
    "        if not line.startswith(cm) and not line.isspace():\n",
    "            lines.append(line)\n",
    "    return lines\n",
    "\n",
    "\n",
    "if __name__ == '__main__':\n",
    "    dir_types = {}\n",
    "    lines = skip_comments_and_blank(open(src_folders))\n",
    "    for sub_dir in lines:\n",
    "        dir_type = sub_dir.split(os.sep)[-1]\n",
    "        if dir_type not in dir_types:\n",
    "            print 'add', dir_type, 'in dir_types'\n",
    "            dir_types[dir_type] = 0\n",
    "       \n",
    "        # count the number of files\n",
    "        num = len(glob.glob(sub_dir+'/*'))\n",
    "        dir_types[dir_type] += num\n",
    "        print sub_dir, num\n",
    "            \n",
    "    print 'sum up:', dir_types"
   ]
  },
  {
   "cell_type": "markdown",
   "metadata": {},
   "source": [
    "##  Generate disturb commands in disturb_pic.sh"
   ]
  },
  {
   "cell_type": "code",
   "execution_count": null,
   "metadata": {
    "collapsed": true
   },
   "outputs": [],
   "source": [
    "import os\n",
    "\n",
    "PRE_PRINT_RES = True\n",
    "\n",
    "# 需要处理的文件夹列表\n",
    "src_folders = '../hf_work_20170805/file_list/train_folders.txt'\n",
    "# 存储的脚本名称\n",
    "fn_cmd = \"disturb_in_pic.sh\"\n",
    "#save_path\n",
    "save_path = '/home/users/dawei.yang/data/20170805_train_test'\n",
    "\n",
    "# 扰动脚本\n",
    "disturb_script = 'disturb_in_eye_pic.py'\n",
    "# 扰动倍数\n",
    "disturb_times = {'a_close':5, 'a_open':2, 'glass_close':13, 'glass_open':2,}\n",
    "\n",
    "\n",
    "\n",
    "def skip_comments_and_blank(file, cm='#'):\n",
    "    lines = list()\n",
    "    for line in file:\n",
    "        #print line\n",
    "        line = line.strip()\n",
    "        if not line.startswith(cm) and not line.isspace():\n",
    "            lines.append(line)\n",
    "    return lines\n",
    "\n",
    "\n",
    "if __name__ == '__main__':\n",
    "        \n",
    "    out_f = open(fn_cmd, 'w')\n",
    "    \n",
    "    lines = skip_comments_and_blank(open(src_folders))\n",
    "    for line in lines:\n",
    "        if line[-1] == os.sep:\n",
    "            line = line[:-1]\n",
    "            \n",
    "        class_dir = line.split(os.sep)[-1] # a_close\n",
    "        disturb_time = disturb_times[class_dir]\n",
    "        out_line = 'python ' + disturb_script\n",
    "        out_line += ' -pic_dir=' + line + ' -save_path=' + save_path + ' -disturb_time=' + str(disturb_time)\n",
    "            \n",
    "        if PRE_PRINT_RES:\n",
    "            print out_line\n",
    "        out_f.write(out_line + '\\n')\n",
    "        \n",
    "    out_f.truncate(out_f.tell()-1)\n",
    "    out_f.close()"
   ]
  },
  {
   "cell_type": "markdown",
   "metadata": {},
   "source": [
    "## Do disturb\n",
    "\n",
    "`sh disturb_pic.sh`只能单线程运行，可以执行`python disturb_on_multi_cpus.py`，但是最好在terminal执行！！！"
   ]
  },
  {
   "cell_type": "code",
   "execution_count": null,
   "metadata": {
    "collapsed": true
   },
   "outputs": [],
   "source": [
    "!sh disturb_in_pic.sh"
   ]
  },
  {
   "cell_type": "markdown",
   "metadata": {
    "collapsed": true
   },
   "source": [
    "# list train files  for caffe"
   ]
  },
  {
   "cell_type": "code",
   "execution_count": null,
   "metadata": {
    "collapsed": true
   },
   "outputs": [],
   "source": [
    "!python list_train_files.py /home/users/dawei.yang/zhaoxu.li/glass_data/glass_20171111_train_test/train -recursive=1 > /home/users/dawei.yang/zhaoxu.li/mxnet_glass/datat/rain_files.txt\n",
    "!python list_train_files.py /home/users/dawei.yang/zhaoxu.li/glass_data/glass_20171111_train_test/test -recursive=1 > /home/users/dawei.yang/zhaoxu.li/mxnet_glass/data/test_files.txt"
   ]
  },
  {
   "cell_type": "markdown",
   "metadata": {},
   "source": [
    "## Convert to mxnet lst"
   ]
  },
  {
   "cell_type": "code",
   "execution_count": null,
   "metadata": {
    "collapsed": true,
    "scrolled": true
   },
   "outputs": [],
   "source": [
    "!python convert_caffeList_to_mxnetList.py ../data/train_files.txt ../data/ eye_train.lst\n",
    "!python convert_caffeList_to_mxnetList.py ../data/train_files.txt ../data/eye_train.lst"
   ]
  },
  {
   "cell_type": "markdown",
   "metadata": {},
   "source": [
    "## Get rec files for mxnet trainning"
   ]
  },
  {
   "cell_type": "code",
   "execution_count": null,
   "metadata": {
    "collapsed": true
   },
   "outputs": [],
   "source": [
    "!python im2rec.py --color=0 --encoding='.png' --num-thread=4 --reszie=32 ../data/1023_data/ ../data/1023_data/"
   ]
  }
 ],
 "metadata": {
  "kernelspec": {
   "display_name": "Python 2",
   "language": "python",
   "name": "python2"
  },
  "language_info": {
   "codemirror_mode": {
    "name": "ipython",
    "version": 2
   },
   "file_extension": ".py",
   "mimetype": "text/x-python",
   "name": "python",
   "nbconvert_exporter": "python",
   "pygments_lexer": "ipython2",
   "version": "2.7.5"
  }
 },
 "nbformat": 4,
 "nbformat_minor": 1
}
