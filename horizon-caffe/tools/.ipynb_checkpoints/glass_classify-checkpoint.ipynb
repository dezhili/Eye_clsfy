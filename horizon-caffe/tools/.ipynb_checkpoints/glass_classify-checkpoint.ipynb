{
 "cells": [
  {
   "cell_type": "markdown",
   "metadata": {},
   "source": [
    "## 1. 生成训练集列表文件"
   ]
  },
  {
   "cell_type": "code",
   "execution_count": null,
   "metadata": {
    "collapsed": true
   },
   "outputs": [],
   "source": [
    "%%bash\n",
    "python list_train_folders.py -root_dir=/home/users/dawei.yang/data/source_eye_data/Annotation_Image_Eye/ -dir_type=\"a_open|glass_open|a_close|glass_close\" > ../glass_classify/file_list/train_folders.txt"
   ]
  },
  {
   "cell_type": "markdown",
   "metadata": {},
   "source": [
    "## 2. 扰动图片"
   ]
  },
  {
   "cell_type": "code",
   "execution_count": null,
   "metadata": {
    "scrolled": true
   },
   "outputs": [],
   "source": [
    "import os\n",
    "import glob\n",
    "import argparse\n",
    "\n",
    "src_folders = '../glass_classify/file_list/train_folders.txt'\n",
    "\n",
    "\n",
    "def skip_comments_and_blank(file, cm='#'):\n",
    "    lines = list()\n",
    "    for line in file:\n",
    "        line = line.strip()\n",
    "        if not line.startswith(cm) and not line.isspace():\n",
    "            lines.append(line)\n",
    "    return lines\n",
    "\n",
    "\n",
    "if __name__ == '__main__':\n",
    "    dir_types = {}\n",
    "    lines = skip_comments_and_blank(open(src_folders))\n",
    "    for sub_dir in lines:\n",
    "        dir_type = sub_dir.split(os.sep)[-1]\n",
    "        if dir_type not in dir_types:\n",
    "            print 'add', dir_type, 'in dir_types'\n",
    "            dir_types[dir_type] = 0\n",
    "       \n",
    "        # count the number of files\n",
    "        num = len(glob.glob(sub_dir+'/*'))\n",
    "        dir_types[dir_type] += num\n",
    "        print sub_dir, num\n",
    "            \n",
    "    print 'sum up:', dir_types"
   ]
  },
  {
   "cell_type": "markdown",
   "metadata": {},
   "source": [
    "## 3. 生成训练数据文件列表"
   ]
  },
  {
   "cell_type": "code",
   "execution_count": null,
   "metadata": {
    "collapsed": true
   },
   "outputs": [],
   "source": [
    "!python list_glass_classify_train_files.py /home/users/dawei.yang/data/source_eye_data/Annotation_Image_Eye/ -recursive=1 > ../glass_classify/file_list/train_test_files.txt"
   ]
  },
  {
   "cell_type": "code",
   "execution_count": null,
   "metadata": {
    "collapsed": true
   },
   "outputs": [],
   "source": []
  }
 ],
 "metadata": {
  "kernelspec": {
   "display_name": "Python 2",
   "language": "python",
   "name": "python2"
  },
  "language_info": {
   "codemirror_mode": {
    "name": "ipython",
    "version": 2
   },
   "file_extension": ".py",
   "mimetype": "text/x-python",
   "name": "python",
   "nbconvert_exporter": "python",
   "pygments_lexer": "ipython2",
   "version": "2.7.5"
  }
 },
 "nbformat": 4,
 "nbformat_minor": 2
}
