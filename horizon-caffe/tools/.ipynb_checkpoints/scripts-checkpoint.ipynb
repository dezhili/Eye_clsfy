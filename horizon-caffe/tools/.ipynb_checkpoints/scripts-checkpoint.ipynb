{
 "cells": [
  {
   "cell_type": "code",
   "execution_count": null,
   "metadata": {},
   "outputs": [],
   "source": [
    "import os\n",
    "import glob\n",
    "import argparse\n",
    "               \n",
    "    \n",
    "data_folders = '/home/users/dawei.yang/data/source_eye_data/'\n",
    "\n",
    "def parse_args():\n",
    "    parser = argparse.ArgumentParser()\n",
    "    parser.add_argument('-root_dir', help='root dir', default=data_folders)\n",
    "    parser.add_argument('-dir_type', help='[o]\"a_open|glass_open|a_close|glass_close\"', default='a_open|glass_open|a_close|glass_close')\n",
    "    args = parser.parse_args()\n",
    "    return args\n",
    "\n",
    "if __name__ == '__main__':\n",
    "    args = parse_args()\n",
    "\n",
    "    sub_dirs = os.walk(args.root_dir)\n",
    "    dir_types = args.dir_type.split('|')\n",
    "    dir_types_num = {}\n",
    "    sub_dir_types_num = {}\n",
    "    for sub_dir in sub_dirs:\n",
    "        if str(sub_dir).split(os.sep)[-1] in dir_types:\n",
    "            dir_type = str(sub_dir).split(os.sep)[-1]\n",
    "            if dir_type not in dir_types_num:\n",
    "                dir_types_num[dir_type] = 0\n",
    "            # count the number of files\n",
    "            num = len(glob.glob(sub_dir+'/*'))\n",
    "            tmp_path = os.sep.join(sub_dir.split(os.sep)[:-1])\n",
    "            if tmp_path not in sub_dir_types_num:\n",
    "                sub_dir_types_num[str(tmp_path)] = {}\n",
    "            else:\n",
    "                sub_dir_types_num[str(tmp_path)][dir_type] = num\n",
    "            dir_types_num[dir_type] += num\n",
    "    print sub_dir_types_num\n",
    "            \n",
    "    print 'sum up:', dir_types_num"
   ]
  },
  {
   "cell_type": "code",
   "execution_count": null,
   "metadata": {
    "collapsed": true
   },
   "outputs": [],
   "source": []
  }
 ],
 "metadata": {
  "kernelspec": {
   "display_name": "Python 2",
   "language": "python",
   "name": "python2"
  },
  "language_info": {
   "codemirror_mode": {
    "name": "ipython",
    "version": 2
   },
   "file_extension": ".py",
   "mimetype": "text/x-python",
   "name": "python",
   "nbconvert_exporter": "python",
   "pygments_lexer": "ipython2",
   "version": "2.7.5"
  }
 },
 "nbformat": 4,
 "nbformat_minor": 2
}
